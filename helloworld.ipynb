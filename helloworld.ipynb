{
  "nbformat": 4,
  "nbformat_minor": 0,
  "metadata": {
    "colab": {
      "provenance": [],
      "toc_visible": true,
      "authorship_tag": "ABX9TyMAgvntKFo4boMP2/G4C3+9",
      "include_colab_link": true
    },
    "kernelspec": {
      "name": "python3",
      "display_name": "Python 3"
    },
    "language_info": {
      "name": "python"
    }
  },
  "cells": [
    {
      "cell_type": "markdown",
      "metadata": {
        "id": "view-in-github",
        "colab_type": "text"
      },
      "source": [
        "<a href=\"https://colab.research.google.com/github/nainarbala/machinelearning/blob/main/helloworld.ipynb\" target=\"_parent\"><img src=\"https://colab.research.google.com/assets/colab-badge.svg\" alt=\"Open In Colab\"/></a>"
      ]
    },
    {
      "cell_type": "markdown",
      "source": [],
      "metadata": {
        "id": "W-RIFzLAa2tf"
      }
    },
    {
      "cell_type": "code",
      "source": [
        "print('Hellow world google colab... and gihub1111222')"
      ],
      "metadata": {
        "id": "X451N44ea5v3",
        "outputId": "215ff3f6-2deb-4760-a4be-5eceb2042476",
        "colab": {
          "base_uri": "https://localhost:8080/"
        }
      },
      "execution_count": 2,
      "outputs": [
        {
          "output_type": "stream",
          "name": "stdout",
          "text": [
            "Hellow world google colab... and gihub1111222\n"
          ]
        }
      ]
    },
    {
      "cell_type": "code",
      "execution_count": 5,
      "metadata": {
        "colab": {
          "base_uri": "https://localhost:8080/"
        },
        "id": "2F97EFoVI49t",
        "outputId": "315f1c0d-1c38-4c13-b933-48a1b0a89644"
      },
      "outputs": [
        {
          "output_type": "stream",
          "name": "stdout",
          "text": [
            "Hellow world google colab... and gihub.11111111111111111\n"
          ]
        }
      ],
      "source": [
        "print('Hellow world google colab... and gihub.11111111111111111')"
      ]
    }
  ]
}