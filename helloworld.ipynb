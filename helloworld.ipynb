{
  "nbformat": 4,
  "nbformat_minor": 0,
  "metadata": {
    "colab": {
      "provenance": [],
      "toc_visible": true,
      "authorship_tag": "ABX9TyPjXCUgH534bkiJO5ZipnL2"
    },
    "kernelspec": {
      "name": "python3",
      "display_name": "Python 3"
    },
    "language_info": {
      "name": "python"
    }
  },
  "cells": [
    {
      "cell_type": "markdown",
      "source": [],
      "metadata": {
        "id": "W-RIFzLAa2tf"
      }
    },
    {
      "cell_type": "code",
      "source": [
        "print('Hellow world google colab... and gihub1111222')"
      ],
      "metadata": {
        "id": "X451N44ea5v3"
      },
      "execution_count": null,
      "outputs": []
    },
    {
      "cell_type": "code",
      "execution_count": 3,
      "metadata": {
        "colab": {
          "base_uri": "https://localhost:8080/"
        },
        "id": "2F97EFoVI49t",
        "outputId": "f3898c68-9525-49e0-e400-fe72b0c974a8"
      },
      "outputs": [
        {
          "output_type": "stream",
          "name": "stdout",
          "text": [
            "Hellow world google colab... and gihub\n"
          ]
        }
      ],
      "source": [
        "print('Hellow world google colab... and gihub')"
      ]
    }
  ]
}