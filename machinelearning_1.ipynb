{
  "nbformat": 4,
  "nbformat_minor": 0,
  "metadata": {
    "colab": {
      "provenance": [],
      "authorship_tag": "ABX9TyPcg2mAYn5u0nuy2OUQhTX7",
      "include_colab_link": true
    },
    "kernelspec": {
      "name": "python3",
      "display_name": "Python 3"
    },
    "language_info": {
      "name": "python"
    }
  },
  "cells": [
    {
      "cell_type": "markdown",
      "metadata": {
        "id": "view-in-github",
        "colab_type": "text"
      },
      "source": [
        "<a href=\"https://colab.research.google.com/github/nainarbala/machinelearning/blob/main/machinelearning_1.ipynb\" target=\"_parent\"><img src=\"https://colab.research.google.com/assets/colab-badge.svg\" alt=\"Open In Colab\"/></a>"
      ]
    },
    {
      "cell_type": "code",
      "source": [
        "import pandas as pd\n",
        "\n",
        "# GitHub RAW URL (replace 'blob' with 'raw')\n",
        "url = 'https://raw.githubusercontent.com/nainarbala/machinelearning/main/dataset/vgsales.csv'\n",
        "\n",
        "# Read the CSV file directly from GitHub\n",
        "df = pd.read_csv(url)\n",
        "\n",
        "# Print the top 5 rows\n",
        "print(df.head())\n",
        "print(df.EU_Sales)\n"
      ],
      "metadata": {
        "colab": {
          "base_uri": "https://localhost:8080/"
        },
        "id": "lNvN2XIybJGF",
        "outputId": "bfeca190-e7a0-43b0-b1d6-6fcf4d5480c9"
      },
      "execution_count": 19,
      "outputs": [
        {
          "output_type": "stream",
          "name": "stdout",
          "text": [
            "   Rank                      Name Platform    Year         Genre Publisher  \\\n",
            "0     1                Wii Sports      Wii  2006.0        Sports  Nintendo   \n",
            "1     2         Super Mario Bros.      NES  1985.0      Platform  Nintendo   \n",
            "2     3            Mario Kart Wii      Wii  2008.0        Racing  Nintendo   \n",
            "3     4         Wii Sports Resort      Wii  2009.0        Sports  Nintendo   \n",
            "4     5  Pokemon Red/Pokemon Blue       GB  1996.0  Role-Playing  Nintendo   \n",
            "\n",
            "   NA_Sales  EU_Sales  JP_Sales  Other_Sales  Global_Sales  \n",
            "0     41.49     29.02      3.77         8.46         82.74  \n",
            "1     29.08      3.58      6.81         0.77         40.24  \n",
            "2     15.85     12.88      3.79         3.31         35.82  \n",
            "3     15.75     11.01      3.28         2.96         33.00  \n",
            "4     11.27      8.89     10.22         1.00         31.37  \n",
            "0        29.02\n",
            "1         3.58\n",
            "2        12.88\n",
            "3        11.01\n",
            "4         8.89\n",
            "         ...  \n",
            "16593     0.00\n",
            "16594     0.00\n",
            "16595     0.00\n",
            "16596     0.01\n",
            "16597     0.00\n",
            "Name: EU_Sales, Length: 16598, dtype: float64\n"
          ]
        }
      ]
    }
  ]
}